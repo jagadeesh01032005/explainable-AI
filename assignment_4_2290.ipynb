{
  "cells": [
    {
      "cell_type": "markdown",
      "metadata": {
        "id": "view-in-github",
        "colab_type": "text"
      },
      "source": [
        "<a href=\"https://colab.research.google.com/github/jagadeesh01032005/explainable-AI/blob/main/assignment_4_2290.ipynb\" target=\"_parent\"><img src=\"https://colab.research.google.com/assets/colab-badge.svg\" alt=\"Open In Colab\"/></a>"
      ]
    },
    {
      "cell_type": "code",
      "source": [
        "import numpy as np\n",
        "import pandas as pd\n",
        "import matplotlib.pyplot as plt\n",
        "from sklearn.model_selection import train_test_split\n",
        "from sklearn.ensemble import RandomForestRegressor\n",
        "from sklearn.inspection import permutation_importance\n",
        "from sklearn.metrics import r2_score, mean_absolute_error, mean_squared_error"
      ],
      "metadata": {
        "id": "Q6p9W6uJB7lL"
      },
      "execution_count": null,
      "outputs": []
    },
    {
      "cell_type": "code",
      "source": [
        "import shap\n",
        "from lime import lime_tabular"
      ],
      "metadata": {
        "id": "YbFZbgwkCBac"
      },
      "execution_count": null,
      "outputs": []
    },
    {
      "cell_type": "code",
      "source": [
        "OUTDIR = \"outputs\"\n",
        "os.makedirs(OUTDIR, exist_ok=True)"
      ],
      "metadata": {
        "id": "cX1xEL4lCE-Z"
      },
      "execution_count": null,
      "outputs": []
    },
    {
      "cell_type": "code",
      "source": [
        "UCI_XLSX_URL = \"https://archive.ics.uci.edu/ml/machine-learning-databases/00242/ENB2012_data.xlsx\"\n",
        "\n",
        "\n",
        "try:\n",
        "    df = pd.read_excel(UCI_XLSX_URL, engine=\"openpyxl\")\n",
        "except Exception as e:\n",
        "    # Fallback: try alternate path used by UCI mirrors\n",
        "    ALT_URL = \"https://archive.ics.uci.edu/ml/machine-learning-databases/00242/ENB2012_data.xlsx\"\n",
        "    print(\"Primary URL failed; trying alternate...\")\n",
        "    df = pd.read_excel(ALT_URL, engine=\"openpyxl\")"
      ],
      "metadata": {
        "id": "ADyg9Z-iCINV"
      },
      "execution_count": null,
      "outputs": []
    },
    {
      "cell_type": "code",
      "source": [],
      "metadata": {
        "id": "UKLgIVm1CM1z"
      },
      "execution_count": null,
      "outputs": []
    },
    {
      "cell_type": "code",
      "metadata": {
        "id": "9791702b"
      },
      "source": [
        "# Clean column names (strip spaces/newlines)\n",
        "df.columns = [str(c).strip().replace(\" \", \"_\") for c in df.columns]\n",
        "\n",
        "# According to the dataset, first 8 columns are features; last 2 are targets: Y1(Heating) and Y2(Cooling)\n",
        "# Common canonical names:\n",
        "# X1: Relative_Compactness, X2: Surface_Area, X3: Wall_Area, X4: Roof_Area,\n",
        "# X5: Overall_Height, X6: Orientation, X7: Glazing_Area, X8: Glazing_Area_Distribution,\n",
        "# Y1: Heating_Load, Y2: Cooling_Load\n",
        "\n",
        "# Standardize to these names where possible\n",
        "rename_map = {\n",
        "    \"X1\": \"Relative_Compactness\",\n",
        "    \"X2\": \"Surface_Area\",\n",
        "    \"X3\": \"Wall_Area\",\n",
        "    \"X4\": \"Roof_Area\",\n",
        "    \"X5\": \"Overall_Height\",\n",
        "    \"X6\": \"Orientation\",\n",
        "    \"X7\": \"Glazing_Area\",\n",
        "    \"X8\": \"Glazing_Area_Distribution\",\n",
        "    \"Y1\": \"Heating_Load\",\n",
        "    \"Y2\": \"Cooling_Load\",\n",
        "}\n",
        "for k, v in rename_map.items():\n",
        "    if k in df.columns:\n",
        "        df.rename(columns={k: v}, inplace=True)\n",
        "\n",
        "# A few UCI versions include an extra unnamed column; drop any fully-NA columns\n",
        "na_all_cols = [c for c in df.columns if df[c].isna().all()]\n",
        "if na_all_cols:\n",
        "    df.drop(columns=na_all_cols, inplace=True)\n",
        "\n",
        "# Keep only the expected 10 columns if present\n",
        "expected_cols = [\n",
        "    \"Relative_Compactness\", \"Surface_Area\", \"Wall_Area\", \"Roof_Area\",\n",
        "    \"Overall_Height\", \"Orientation\", \"Glazing_Area\",\n",
        "    \"Glazing_Area_Distribution\", \"Heating_Load\", \"Cooling_Load\"\n",
        "]\n",
        "available_cols = [c for c in expected_cols if c in df.columns]\n",
        "df = df[available_cols]\n",
        "\n",
        "# ===============\n",
        "# 2) Define features/target (focus on Heating_Load Y1 for this assignment)\n",
        "# ===============\n",
        "feature_cols = [\n",
        "    \"Relative_Compactness\", \"Surface_Area\", \"Wall_Area\", \"Roof_Area\",\n",
        "    \"Overall_Height\", \"Orientation\", \"Glazing_Area\", \"Glazing_Area_Distribution\"\n",
        "]\n",
        "\n",
        "target_col = \"Heating_Load\"  # You can switch to \"Cooling_Load\" if desired\n",
        "\n",
        "X = df[feature_cols].copy()\n",
        "y = df[target_col].copy()\n",
        "\n",
        "# Train/test split\n",
        "X_train, X_test, y_train, y_test = train_test_split(\n",
        "    X, y, test_size=0.2, random_state=42\n",
        ")"
      ],
      "execution_count": null,
      "outputs": []
    },
    {
      "cell_type": "code",
      "source": [
        "rfr = RandomForestRegressor(\n",
        "n_estimators=600,\n",
        "max_depth=None,\n",
        "min_samples_leaf=1,\n",
        "random_state=42,\n",
        "n_jobs=-1\n",
        ")\n",
        "rfr.fit(X_train, y_train)"
      ],
      "metadata": {
        "colab": {
          "base_uri": "https://localhost:8080/",
          "height": 80
        },
        "id": "RblBIXsYCoh4",
        "outputId": "da9d85f8-95a3-4dce-d0df-4bad04abdd2c"
      },
      "execution_count": null,
      "outputs": [
        {
          "output_type": "execute_result",
          "data": {
            "text/plain": [
              "RandomForestRegressor(n_estimators=600, n_jobs=-1, random_state=42)"
            ],
            "text/html": [
              "<style>#sk-container-id-1 {\n",
              "  /* Definition of color scheme common for light and dark mode */\n",
              "  --sklearn-color-text: #000;\n",
              "  --sklearn-color-text-muted: #666;\n",
              "  --sklearn-color-line: gray;\n",
              "  /* Definition of color scheme for unfitted estimators */\n",
              "  --sklearn-color-unfitted-level-0: #fff5e6;\n",
              "  --sklearn-color-unfitted-level-1: #f6e4d2;\n",
              "  --sklearn-color-unfitted-level-2: #ffe0b3;\n",
              "  --sklearn-color-unfitted-level-3: chocolate;\n",
              "  /* Definition of color scheme for fitted estimators */\n",
              "  --sklearn-color-fitted-level-0: #f0f8ff;\n",
              "  --sklearn-color-fitted-level-1: #d4ebff;\n",
              "  --sklearn-color-fitted-level-2: #b3dbfd;\n",
              "  --sklearn-color-fitted-level-3: cornflowerblue;\n",
              "\n",
              "  /* Specific color for light theme */\n",
              "  --sklearn-color-text-on-default-background: var(--sg-text-color, var(--theme-code-foreground, var(--jp-content-font-color1, black)));\n",
              "  --sklearn-color-background: var(--sg-background-color, var(--theme-background, var(--jp-layout-color0, white)));\n",
              "  --sklearn-color-border-box: var(--sg-text-color, var(--theme-code-foreground, var(--jp-content-font-color1, black)));\n",
              "  --sklearn-color-icon: #696969;\n",
              "\n",
              "  @media (prefers-color-scheme: dark) {\n",
              "    /* Redefinition of color scheme for dark theme */\n",
              "    --sklearn-color-text-on-default-background: var(--sg-text-color, var(--theme-code-foreground, var(--jp-content-font-color1, white)));\n",
              "    --sklearn-color-background: var(--sg-background-color, var(--theme-background, var(--jp-layout-color0, #111)));\n",
              "    --sklearn-color-border-box: var(--sg-text-color, var(--theme-code-foreground, var(--jp-content-font-color1, white)));\n",
              "    --sklearn-color-icon: #878787;\n",
              "  }\n",
              "}\n",
              "\n",
              "#sk-container-id-1 {\n",
              "  color: var(--sklearn-color-text);\n",
              "}\n",
              "\n",
              "#sk-container-id-1 pre {\n",
              "  padding: 0;\n",
              "}\n",
              "\n",
              "#sk-container-id-1 input.sk-hidden--visually {\n",
              "  border: 0;\n",
              "  clip: rect(1px 1px 1px 1px);\n",
              "  clip: rect(1px, 1px, 1px, 1px);\n",
              "  height: 1px;\n",
              "  margin: -1px;\n",
              "  overflow: hidden;\n",
              "  padding: 0;\n",
              "  position: absolute;\n",
              "  width: 1px;\n",
              "}\n",
              "\n",
              "#sk-container-id-1 div.sk-dashed-wrapped {\n",
              "  border: 1px dashed var(--sklearn-color-line);\n",
              "  margin: 0 0.4em 0.5em 0.4em;\n",
              "  box-sizing: border-box;\n",
              "  padding-bottom: 0.4em;\n",
              "  background-color: var(--sklearn-color-background);\n",
              "}\n",
              "\n",
              "#sk-container-id-1 div.sk-container {\n",
              "  /* jupyter's `normalize.less` sets `[hidden] { display: none; }`\n",
              "     but bootstrap.min.css set `[hidden] { display: none !important; }`\n",
              "     so we also need the `!important` here to be able to override the\n",
              "     default hidden behavior on the sphinx rendered scikit-learn.org.\n",
              "     See: https://github.com/scikit-learn/scikit-learn/issues/21755 */\n",
              "  display: inline-block !important;\n",
              "  position: relative;\n",
              "}\n",
              "\n",
              "#sk-container-id-1 div.sk-text-repr-fallback {\n",
              "  display: none;\n",
              "}\n",
              "\n",
              "div.sk-parallel-item,\n",
              "div.sk-serial,\n",
              "div.sk-item {\n",
              "  /* draw centered vertical line to link estimators */\n",
              "  background-image: linear-gradient(var(--sklearn-color-text-on-default-background), var(--sklearn-color-text-on-default-background));\n",
              "  background-size: 2px 100%;\n",
              "  background-repeat: no-repeat;\n",
              "  background-position: center center;\n",
              "}\n",
              "\n",
              "/* Parallel-specific style estimator block */\n",
              "\n",
              "#sk-container-id-1 div.sk-parallel-item::after {\n",
              "  content: \"\";\n",
              "  width: 100%;\n",
              "  border-bottom: 2px solid var(--sklearn-color-text-on-default-background);\n",
              "  flex-grow: 1;\n",
              "}\n",
              "\n",
              "#sk-container-id-1 div.sk-parallel {\n",
              "  display: flex;\n",
              "  align-items: stretch;\n",
              "  justify-content: center;\n",
              "  background-color: var(--sklearn-color-background);\n",
              "  position: relative;\n",
              "}\n",
              "\n",
              "#sk-container-id-1 div.sk-parallel-item {\n",
              "  display: flex;\n",
              "  flex-direction: column;\n",
              "}\n",
              "\n",
              "#sk-container-id-1 div.sk-parallel-item:first-child::after {\n",
              "  align-self: flex-end;\n",
              "  width: 50%;\n",
              "}\n",
              "\n",
              "#sk-container-id-1 div.sk-parallel-item:last-child::after {\n",
              "  align-self: flex-start;\n",
              "  width: 50%;\n",
              "}\n",
              "\n",
              "#sk-container-id-1 div.sk-parallel-item:only-child::after {\n",
              "  width: 0;\n",
              "}\n",
              "\n",
              "/* Serial-specific style estimator block */\n",
              "\n",
              "#sk-container-id-1 div.sk-serial {\n",
              "  display: flex;\n",
              "  flex-direction: column;\n",
              "  align-items: center;\n",
              "  background-color: var(--sklearn-color-background);\n",
              "  padding-right: 1em;\n",
              "  padding-left: 1em;\n",
              "}\n",
              "\n",
              "\n",
              "/* Toggleable style: style used for estimator/Pipeline/ColumnTransformer box that is\n",
              "clickable and can be expanded/collapsed.\n",
              "- Pipeline and ColumnTransformer use this feature and define the default style\n",
              "- Estimators will overwrite some part of the style using the `sk-estimator` class\n",
              "*/\n",
              "\n",
              "/* Pipeline and ColumnTransformer style (default) */\n",
              "\n",
              "#sk-container-id-1 div.sk-toggleable {\n",
              "  /* Default theme specific background. It is overwritten whether we have a\n",
              "  specific estimator or a Pipeline/ColumnTransformer */\n",
              "  background-color: var(--sklearn-color-background);\n",
              "}\n",
              "\n",
              "/* Toggleable label */\n",
              "#sk-container-id-1 label.sk-toggleable__label {\n",
              "  cursor: pointer;\n",
              "  display: flex;\n",
              "  width: 100%;\n",
              "  margin-bottom: 0;\n",
              "  padding: 0.5em;\n",
              "  box-sizing: border-box;\n",
              "  text-align: center;\n",
              "  align-items: start;\n",
              "  justify-content: space-between;\n",
              "  gap: 0.5em;\n",
              "}\n",
              "\n",
              "#sk-container-id-1 label.sk-toggleable__label .caption {\n",
              "  font-size: 0.6rem;\n",
              "  font-weight: lighter;\n",
              "  color: var(--sklearn-color-text-muted);\n",
              "}\n",
              "\n",
              "#sk-container-id-1 label.sk-toggleable__label-arrow:before {\n",
              "  /* Arrow on the left of the label */\n",
              "  content: \"▸\";\n",
              "  float: left;\n",
              "  margin-right: 0.25em;\n",
              "  color: var(--sklearn-color-icon);\n",
              "}\n",
              "\n",
              "#sk-container-id-1 label.sk-toggleable__label-arrow:hover:before {\n",
              "  color: var(--sklearn-color-text);\n",
              "}\n",
              "\n",
              "/* Toggleable content - dropdown */\n",
              "\n",
              "#sk-container-id-1 div.sk-toggleable__content {\n",
              "  max-height: 0;\n",
              "  max-width: 0;\n",
              "  overflow: hidden;\n",
              "  text-align: left;\n",
              "  /* unfitted */\n",
              "  background-color: var(--sklearn-color-unfitted-level-0);\n",
              "}\n",
              "\n",
              "#sk-container-id-1 div.sk-toggleable__content.fitted {\n",
              "  /* fitted */\n",
              "  background-color: var(--sklearn-color-fitted-level-0);\n",
              "}\n",
              "\n",
              "#sk-container-id-1 div.sk-toggleable__content pre {\n",
              "  margin: 0.2em;\n",
              "  border-radius: 0.25em;\n",
              "  color: var(--sklearn-color-text);\n",
              "  /* unfitted */\n",
              "  background-color: var(--sklearn-color-unfitted-level-0);\n",
              "}\n",
              "\n",
              "#sk-container-id-1 div.sk-toggleable__content.fitted pre {\n",
              "  /* unfitted */\n",
              "  background-color: var(--sklearn-color-fitted-level-0);\n",
              "}\n",
              "\n",
              "#sk-container-id-1 input.sk-toggleable__control:checked~div.sk-toggleable__content {\n",
              "  /* Expand drop-down */\n",
              "  max-height: 200px;\n",
              "  max-width: 100%;\n",
              "  overflow: auto;\n",
              "}\n",
              "\n",
              "#sk-container-id-1 input.sk-toggleable__control:checked~label.sk-toggleable__label-arrow:before {\n",
              "  content: \"▾\";\n",
              "}\n",
              "\n",
              "/* Pipeline/ColumnTransformer-specific style */\n",
              "\n",
              "#sk-container-id-1 div.sk-label input.sk-toggleable__control:checked~label.sk-toggleable__label {\n",
              "  color: var(--sklearn-color-text);\n",
              "  background-color: var(--sklearn-color-unfitted-level-2);\n",
              "}\n",
              "\n",
              "#sk-container-id-1 div.sk-label.fitted input.sk-toggleable__control:checked~label.sk-toggleable__label {\n",
              "  background-color: var(--sklearn-color-fitted-level-2);\n",
              "}\n",
              "\n",
              "/* Estimator-specific style */\n",
              "\n",
              "/* Colorize estimator box */\n",
              "#sk-container-id-1 div.sk-estimator input.sk-toggleable__control:checked~label.sk-toggleable__label {\n",
              "  /* unfitted */\n",
              "  background-color: var(--sklearn-color-unfitted-level-2);\n",
              "}\n",
              "\n",
              "#sk-container-id-1 div.sk-estimator.fitted input.sk-toggleable__control:checked~label.sk-toggleable__label {\n",
              "  /* fitted */\n",
              "  background-color: var(--sklearn-color-fitted-level-2);\n",
              "}\n",
              "\n",
              "#sk-container-id-1 div.sk-label label.sk-toggleable__label,\n",
              "#sk-container-id-1 div.sk-label label {\n",
              "  /* The background is the default theme color */\n",
              "  color: var(--sklearn-color-text-on-default-background);\n",
              "}\n",
              "\n",
              "/* On hover, darken the color of the background */\n",
              "#sk-container-id-1 div.sk-label:hover label.sk-toggleable__label {\n",
              "  color: var(--sklearn-color-text);\n",
              "  background-color: var(--sklearn-color-unfitted-level-2);\n",
              "}\n",
              "\n",
              "/* Label box, darken color on hover, fitted */\n",
              "#sk-container-id-1 div.sk-label.fitted:hover label.sk-toggleable__label.fitted {\n",
              "  color: var(--sklearn-color-text);\n",
              "  background-color: var(--sklearn-color-fitted-level-2);\n",
              "}\n",
              "\n",
              "/* Estimator label */\n",
              "\n",
              "#sk-container-id-1 div.sk-label label {\n",
              "  font-family: monospace;\n",
              "  font-weight: bold;\n",
              "  display: inline-block;\n",
              "  line-height: 1.2em;\n",
              "}\n",
              "\n",
              "#sk-container-id-1 div.sk-label-container {\n",
              "  text-align: center;\n",
              "}\n",
              "\n",
              "/* Estimator-specific */\n",
              "#sk-container-id-1 div.sk-estimator {\n",
              "  font-family: monospace;\n",
              "  border: 1px dotted var(--sklearn-color-border-box);\n",
              "  border-radius: 0.25em;\n",
              "  box-sizing: border-box;\n",
              "  margin-bottom: 0.5em;\n",
              "  /* unfitted */\n",
              "  background-color: var(--sklearn-color-unfitted-level-0);\n",
              "}\n",
              "\n",
              "#sk-container-id-1 div.sk-estimator.fitted {\n",
              "  /* fitted */\n",
              "  background-color: var(--sklearn-color-fitted-level-0);\n",
              "}\n",
              "\n",
              "/* on hover */\n",
              "#sk-container-id-1 div.sk-estimator:hover {\n",
              "  /* unfitted */\n",
              "  background-color: var(--sklearn-color-unfitted-level-2);\n",
              "}\n",
              "\n",
              "#sk-container-id-1 div.sk-estimator.fitted:hover {\n",
              "  /* fitted */\n",
              "  background-color: var(--sklearn-color-fitted-level-2);\n",
              "}\n",
              "\n",
              "/* Specification for estimator info (e.g. \"i\" and \"?\") */\n",
              "\n",
              "/* Common style for \"i\" and \"?\" */\n",
              "\n",
              ".sk-estimator-doc-link,\n",
              "a:link.sk-estimator-doc-link,\n",
              "a:visited.sk-estimator-doc-link {\n",
              "  float: right;\n",
              "  font-size: smaller;\n",
              "  line-height: 1em;\n",
              "  font-family: monospace;\n",
              "  background-color: var(--sklearn-color-background);\n",
              "  border-radius: 1em;\n",
              "  height: 1em;\n",
              "  width: 1em;\n",
              "  text-decoration: none !important;\n",
              "  margin-left: 0.5em;\n",
              "  text-align: center;\n",
              "  /* unfitted */\n",
              "  border: var(--sklearn-color-unfitted-level-1) 1pt solid;\n",
              "  color: var(--sklearn-color-unfitted-level-1);\n",
              "}\n",
              "\n",
              ".sk-estimator-doc-link.fitted,\n",
              "a:link.sk-estimator-doc-link.fitted,\n",
              "a:visited.sk-estimator-doc-link.fitted {\n",
              "  /* fitted */\n",
              "  border: var(--sklearn-color-fitted-level-1) 1pt solid;\n",
              "  color: var(--sklearn-color-fitted-level-1);\n",
              "}\n",
              "\n",
              "/* On hover */\n",
              "div.sk-estimator:hover .sk-estimator-doc-link:hover,\n",
              ".sk-estimator-doc-link:hover,\n",
              "div.sk-label-container:hover .sk-estimator-doc-link:hover,\n",
              ".sk-estimator-doc-link:hover {\n",
              "  /* unfitted */\n",
              "  background-color: var(--sklearn-color-unfitted-level-3);\n",
              "  color: var(--sklearn-color-background);\n",
              "  text-decoration: none;\n",
              "}\n",
              "\n",
              "div.sk-estimator.fitted:hover .sk-estimator-doc-link.fitted:hover,\n",
              ".sk-estimator-doc-link.fitted:hover,\n",
              "div.sk-label-container:hover .sk-estimator-doc-link.fitted:hover,\n",
              ".sk-estimator-doc-link.fitted:hover {\n",
              "  /* fitted */\n",
              "  background-color: var(--sklearn-color-fitted-level-3);\n",
              "  color: var(--sklearn-color-background);\n",
              "  text-decoration: none;\n",
              "}\n",
              "\n",
              "/* Span, style for the box shown on hovering the info icon */\n",
              ".sk-estimator-doc-link span {\n",
              "  display: none;\n",
              "  z-index: 9999;\n",
              "  position: relative;\n",
              "  font-weight: normal;\n",
              "  right: .2ex;\n",
              "  padding: .5ex;\n",
              "  margin: .5ex;\n",
              "  width: min-content;\n",
              "  min-width: 20ex;\n",
              "  max-width: 50ex;\n",
              "  color: var(--sklearn-color-text);\n",
              "  box-shadow: 2pt 2pt 4pt #999;\n",
              "  /* unfitted */\n",
              "  background: var(--sklearn-color-unfitted-level-0);\n",
              "  border: .5pt solid var(--sklearn-color-unfitted-level-3);\n",
              "}\n",
              "\n",
              ".sk-estimator-doc-link.fitted span {\n",
              "  /* fitted */\n",
              "  background: var(--sklearn-color-fitted-level-0);\n",
              "  border: var(--sklearn-color-fitted-level-3);\n",
              "}\n",
              "\n",
              ".sk-estimator-doc-link:hover span {\n",
              "  display: block;\n",
              "}\n",
              "\n",
              "/* \"?\"-specific style due to the `<a>` HTML tag */\n",
              "\n",
              "#sk-container-id-1 a.estimator_doc_link {\n",
              "  float: right;\n",
              "  font-size: 1rem;\n",
              "  line-height: 1em;\n",
              "  font-family: monospace;\n",
              "  background-color: var(--sklearn-color-background);\n",
              "  border-radius: 1rem;\n",
              "  height: 1rem;\n",
              "  width: 1rem;\n",
              "  text-decoration: none;\n",
              "  /* unfitted */\n",
              "  color: var(--sklearn-color-unfitted-level-1);\n",
              "  border: var(--sklearn-color-unfitted-level-1) 1pt solid;\n",
              "}\n",
              "\n",
              "#sk-container-id-1 a.estimator_doc_link.fitted {\n",
              "  /* fitted */\n",
              "  border: var(--sklearn-color-fitted-level-1) 1pt solid;\n",
              "  color: var(--sklearn-color-fitted-level-1);\n",
              "}\n",
              "\n",
              "/* On hover */\n",
              "#sk-container-id-1 a.estimator_doc_link:hover {\n",
              "  /* unfitted */\n",
              "  background-color: var(--sklearn-color-unfitted-level-3);\n",
              "  color: var(--sklearn-color-background);\n",
              "  text-decoration: none;\n",
              "}\n",
              "\n",
              "#sk-container-id-1 a.estimator_doc_link.fitted:hover {\n",
              "  /* fitted */\n",
              "  background-color: var(--sklearn-color-fitted-level-3);\n",
              "}\n",
              "</style><div id=\"sk-container-id-1\" class=\"sk-top-container\"><div class=\"sk-text-repr-fallback\"><pre>RandomForestRegressor(n_estimators=600, n_jobs=-1, random_state=42)</pre><b>In a Jupyter environment, please rerun this cell to show the HTML representation or trust the notebook. <br />On GitHub, the HTML representation is unable to render, please try loading this page with nbviewer.org.</b></div><div class=\"sk-container\" hidden><div class=\"sk-item\"><div class=\"sk-estimator fitted sk-toggleable\"><input class=\"sk-toggleable__control sk-hidden--visually\" id=\"sk-estimator-id-1\" type=\"checkbox\" checked><label for=\"sk-estimator-id-1\" class=\"sk-toggleable__label fitted sk-toggleable__label-arrow\"><div><div>RandomForestRegressor</div></div><div><a class=\"sk-estimator-doc-link fitted\" rel=\"noreferrer\" target=\"_blank\" href=\"https://scikit-learn.org/1.6/modules/generated/sklearn.ensemble.RandomForestRegressor.html\">?<span>Documentation for RandomForestRegressor</span></a><span class=\"sk-estimator-doc-link fitted\">i<span>Fitted</span></span></div></label><div class=\"sk-toggleable__content fitted\"><pre>RandomForestRegressor(n_estimators=600, n_jobs=-1, random_state=42)</pre></div> </div></div></div></div>"
            ]
          },
          "metadata": {},
          "execution_count": 13
        }
      ]
    },
    {
      "cell_type": "code",
      "metadata": {
        "colab": {
          "base_uri": "https://localhost:8080/"
        },
        "id": "669a998e",
        "outputId": "dc7654b5-c3fc-43a0-f012-1cf5c8deb165"
      },
      "source": [
        "# ===============\n",
        "# 4) Permutation Importance (PI)\n",
        "# ===============\n",
        "pi = permutation_importance(rfr, X_test, y_test, n_repeats=20, random_state=42, n_jobs=-1)\n",
        "pi_means = pd.Series(pi.importances_mean, index=feature_cols).sort_values(ascending=False)\n",
        "\n",
        "plt.figure(figsize=(8, 5))\n",
        "pi_means.plot(kind=\"bar\")\n",
        "plt.title(\"Permutation Importance – Heating Load (RandomForest)\")\n",
        "plt.ylabel(\"Mean decrease in R^2 on shuffle\")\n",
        "plt.tight_layout()\n",
        "pi_path = os.path.join(OUTDIR, \"pi_bar_heating.png\")\n",
        "plt.savefig(pi_path, dpi=180)\n",
        "plt.close()\n",
        "print(f\"Saved PI bar chart to: {pi_path}\")"
      ],
      "execution_count": null,
      "outputs": [
        {
          "output_type": "stream",
          "name": "stdout",
          "text": [
            "Saved PI bar chart to: outputs/pi_bar_heating.png\n"
          ]
        }
      ]
    },
    {
      "cell_type": "code",
      "metadata": {
        "colab": {
          "base_uri": "https://localhost:8080/"
        },
        "id": "74bc81ec",
        "outputId": "ae0a3c55-89c6-4f65-91ef-715a7b1fb6fe"
      },
      "source": [
        "# ===============\n",
        "# 5) SHAP – global (summary) & local (force) explanations\n",
        "# ===============\n",
        "explainer = shap.TreeExplainer(rfr)\n",
        "shap_values = explainer.shap_values(X_train)\n",
        "\n",
        "# Global: beeswarm + bar summary\n",
        "plt.figure()\n",
        "shap.summary_plot(shap_values, X_train, show=False)\n",
        "shap_beeswarm_path = os.path.join(OUTDIR, \"shap_summary_beeswarm.png\")\n",
        "plt.tight_layout()\n",
        "plt.savefig(shap_beeswarm_path, dpi=180)\n",
        "plt.close()\n",
        "print(f\"Saved SHAP beeswarm to: {shap_beeswarm_path}\")\n",
        "\n",
        "plt.figure()\n",
        "shap.summary_plot(shap_values, X_train, plot_type=\"bar\", show=False)\n",
        "shap_bar_path = os.path.join(OUTDIR, \"shap_summary_bar.png\")\n",
        "plt.tight_layout()\n",
        "plt.savefig(shap_bar_path, dpi=180)\n",
        "plt.close()\n",
        "print(f\"Saved SHAP bar summary to: {shap_bar_path}\")\n",
        "\n",
        "# Local: SHAP force plot for one representative building (pick median predicted demand)\n",
        "# Identify an index near the median predicted demand on the test set\n",
        "median_pred = np.median(preds)\n",
        "idx_median = int(np.argsort(np.abs(preds - median_pred))[0])\n",
        "\n",
        "x_instance = X_test.iloc[idx_median:idx_median+1]\n",
        "y_true_inst = y_test.iloc[idx_median]\n",
        "y_pred_inst = preds[idx_median]\n",
        "\n",
        "# Force plot expects a 1D shap_values row and base value\n",
        "shap_values_test = explainer.shap_values(X_test)\n",
        "force = shap.force_plot(\n",
        "    explainer.expected_value,\n",
        "    shap_values_test[idx_median, :],\n",
        "    X_test.iloc[idx_median, :],\n",
        "    matplotlib=False\n",
        ")\n",
        "force_path = os.path.join(OUTDIR, \"shap_force_local.html\")\n",
        "shap.save_html(force_path, force)\n",
        "print(f\"Saved SHAP local force plot to: {force_path}\")"
      ],
      "execution_count": null,
      "outputs": [
        {
          "output_type": "stream",
          "name": "stdout",
          "text": [
            "Saved SHAP beeswarm to: outputs/shap_summary_beeswarm.png\n",
            "Saved SHAP bar summary to: outputs/shap_summary_bar.png\n",
            "Saved SHAP local force plot to: outputs/shap_force_local.html\n"
          ]
        }
      ]
    },
    {
      "cell_type": "code",
      "source": [
        "explainer_lime = lime_tabular.LimeTabularExplainer(\n",
        "training_data=X_train.values,\n",
        "feature_names=feature_cols,\n",
        "discretize_continuous=True,\n",
        "mode=\"regression\",\n",
        "verbose=False,\n",
        "random_state=42\n",
        ")"
      ],
      "metadata": {
        "id": "HxTS-EsLDR2y"
      },
      "execution_count": null,
      "outputs": []
    },
    {
      "cell_type": "code",
      "source": [
        "low_idx = int(np.argsort(preds)[0])\n",
        "high_idx = int(np.argsort(preds)[-1])"
      ],
      "metadata": {
        "id": "dm3nyRR4Dgcp"
      },
      "execution_count": null,
      "outputs": []
    },
    {
      "cell_type": "code",
      "source": [
        "for label, idx in [(\"low\", low_idx), (\"high\", high_idx)]:\n",
        "    exp = explainer_lime.explain_instance(\n",
        "        data_row=X_test.iloc[idx].values,\n",
        "        predict_fn=rfr.predict,\n",
        "        num_features=8\n",
        "    )\n",
        "    html_path = os.path.join(OUTDIR, f\"lime_{label}_heating.html\")\n",
        "    exp.save_to_file(html_path)\n",
        "    print(f\"Saved LIME explanation to: {html_path} (instance index {idx})\")"
      ],
      "metadata": {
        "colab": {
          "base_uri": "https://localhost:8080/"
        },
        "id": "msUThOheDkWr",
        "outputId": "e34a9070-b406-494b-c9e0-77387bbab8c2"
      },
      "execution_count": null,
      "outputs": [
        {
          "output_type": "stream",
          "name": "stdout",
          "text": [
            "Saved LIME explanation to: outputs/lime_low_heating.html (instance index 42)\n",
            "Saved LIME explanation to: outputs/lime_high_heating.html (instance index 3)\n"
          ]
        }
      ]
    },
    {
      "cell_type": "code",
      "source": [
        "mean_abs_shap = pd.Series(np.abs(shap_values).mean(axis=0), index=feature_cols).sort_values(ascending=False)"
      ],
      "metadata": {
        "id": "8GqTowuND1fa"
      },
      "execution_count": null,
      "outputs": []
    },
    {
      "cell_type": "code",
      "source": [
        "comp_df = pd.DataFrame({\n",
        "'PI_rank': pi_means.rank(ascending=False, method='dense'),\n",
        "'mean|SHAP|_rank': mean_abs_shap.rank(ascending=False, method='dense')\n",
        "}).sort_values('PI_rank')"
      ],
      "metadata": {
        "id": "6WhIAWZtD6P9"
      },
      "execution_count": null,
      "outputs": []
    },
    {
      "cell_type": "code",
      "source": [
        "insights = []\n",
        "insights.append(\"Permutation Importance and SHAP broadly agree on the dominant geometric/area features (e.g., Surface_Area, Wall_Area, Roof_Area, Relative_Compactness).\")\n",
        "insights.append(\"SHAP reveals directionality: higher Relative_Compactness and greater Overall_Height tend to reduce heating load, while larger Surface/Wall/Roof areas tend to increase it (given other factors constant).\")\n",
        "insights.append(\"Orientation and Glazing characteristics show moderate effects globally, but can be decisive locally depending on the specific building.\")\n",
        "insights.append(\"LIME explanations for the low-demand building highlight compactness/height and smaller envelope areas as key to lower load; for the high-demand building, large envelope areas and glazing often push predictions upward.\")\n",
        "insights.append(\"Where PI and SHAP diverge slightly, it is often due to correlated features; SHAP distributes credit more consistently across correlated groups.\")\n",
        "insights.append(\"Local SHAP force plot shows how a handful of features push the prediction above/below the base value, clarifying case-by-case tradeoffs.\")\n",
        "insights.append(\"Across methods: PI is simple and model-agnostic for global ranks; SHAP provides both global ranking and signed, instance-level attributions; LIME offers sparse, human-readable rules for specific buildings.\")"
      ],
      "metadata": {
        "id": "satCtLQ-D95v"
      },
      "execution_count": null,
      "outputs": []
    },
    {
      "cell_type": "code",
      "source": [
        "insights_path = os.path.join(OUTDIR, \"insights.txt\")\n",
        "with open(insights_path, \"w\", encoding=\"utf-8\") as f:\n",
        "    f.write(\"Insights (5–10 bullets)\\n-------------------------\\n\")\n",
        "    for i, s in enumerate(insights, 1):\n",
        "        f.write(f\"{i}. {s}\\n\")"
      ],
      "metadata": {
        "id": "HBGe1cWqECri"
      },
      "execution_count": null,
      "outputs": []
    },
    {
      "cell_type": "code",
      "source": [
        "comp_path = os.path.join(OUTDIR, \"pi_vs_shap_ranks.csv\")\n",
        "comp_df.to_csv(comp_path)"
      ],
      "metadata": {
        "id": "sTQDnMGaELSy"
      },
      "execution_count": null,
      "outputs": []
    },
    {
      "cell_type": "code",
      "source": [
        "print(\"\\n=== Deliverables written ===\")\n",
        "print(f\"PI bar chart: {pi_path}\")\n",
        "print(f\"SHAP summary (beeswarm): {shap_beeswarm_path}\")\n",
        "print(f\"SHAP summary (bar): {shap_bar_path}\")\n",
        "print(f\"SHAP local force (HTML): {force_path}\")\n",
        "print(f\"LIME low/high (HTML): {os.path.join(OUTDIR, 'lime_low_heating.html')} | {os.path.join(OUTDIR, 'lime_high_heating.html')}\")\n",
        "print(f\"Insights: {insights_path}\")\n",
        "print(f\"PI vs SHAP ranks CSV: {comp_path}\")"
      ],
      "metadata": {
        "colab": {
          "base_uri": "https://localhost:8080/"
        },
        "id": "rJ1DEMCcERjc",
        "outputId": "2dc07ff9-1fec-4477-a458-8f99399b0245"
      },
      "execution_count": null,
      "outputs": [
        {
          "output_type": "stream",
          "name": "stdout",
          "text": [
            "\n",
            "=== Deliverables written ===\n",
            "PI bar chart: outputs/pi_bar_heating.png\n",
            "SHAP summary (beeswarm): outputs/shap_summary_beeswarm.png\n",
            "SHAP summary (bar): outputs/shap_summary_bar.png\n",
            "SHAP local force (HTML): outputs/shap_force_local.html\n",
            "LIME low/high (HTML): outputs/lime_low_heating.html | outputs/lime_high_heating.html\n",
            "Insights: outputs/insights.txt\n",
            "PI vs SHAP ranks CSV: outputs/pi_vs_shap_ranks.csv\n"
          ]
        }
      ]
    },
    {
      "cell_type": "code",
      "source": [
        "print(\"\\nDone. Open the HTML files for interactive local explanations and the PNGs for plots.\")"
      ],
      "metadata": {
        "colab": {
          "base_uri": "https://localhost:8080/"
        },
        "id": "yWwSE5GWEU6d",
        "outputId": "c3de82c0-3733-49dd-864a-b7c39897f562"
      },
      "execution_count": null,
      "outputs": [
        {
          "output_type": "stream",
          "name": "stdout",
          "text": [
            "\n",
            "Done. Open the HTML files for interactive local explanations and the PNGs for plots.\n"
          ]
        }
      ]
    },
    {
      "cell_type": "code",
      "source": [],
      "metadata": {
        "id": "RyX6qHPcEY2v"
      },
      "execution_count": null,
      "outputs": []
    }
  ],
  "metadata": {
    "colab": {
      "provenance": [],
      "include_colab_link": true
    },
    "kernelspec": {
      "display_name": "Python 3",
      "name": "python3"
    },
    "language_info": {
      "name": "python"
    }
  },
  "nbformat": 4,
  "nbformat_minor": 0
}